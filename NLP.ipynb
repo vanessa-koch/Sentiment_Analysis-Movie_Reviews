{
 "cells": [
  {
   "cell_type": "markdown",
   "metadata": {},
   "source": [
    "# Sentiment analysis using natural language processing \n",
    "# IMDb movie reviews"
   ]
  },
  {
   "cell_type": "markdown",
   "metadata": {},
   "source": [
    "## Table of Contents\n",
    "\n",
    "1.  [Introduction](#1)\n",
    "\n",
    "2.  [Data](#2)\n",
    "\n",
    "3.  [Methodology](#3)\n",
    "\n",
    "4.  [Analysis](#4)\n",
    "\n",
    "5.  [Results and Discussion](#5)\n",
    "\n",
    "6.  [Conclusion](#6)\n",
    "\n",
    "7.  [References](#7)\n"
   ]
  },
  {
   "cell_type": "markdown",
   "metadata": {},
   "source": [
    "## Introduction  <a id= \"1\"></a>\n"
   ]
  },
  {
   "cell_type": "markdown",
   "metadata": {},
   "source": [
    "Sentiment analysis, also known as opinion mining, refers to the use of natural language processing in order to systematically identify, extract and quantify subjective information from text. Using machine learning methods to evaluate text requires representing the text in a way that can be used in machine learning models. Word embeddings or word vectors help to represent each word numerically.<br> \n",
    "\n",
    "We will use a dataset of movie reviews for binary sentiment classification and train and compare different machine learning models to  predict positive and negative reviews."
   ]
  },
  {
   "cell_type": "markdown",
   "metadata": {},
   "source": [
    "## Data <a id= \"2\"></a>"
   ]
  },
  {
   "cell_type": "markdown",
   "metadata": {},
   "source": [
    "The Internet Movie Database (IMDb) is the world's most popular and authoritative source for movie, TV and celebrity content. It provides ratings and reviews for the newest movies and TV shows.\n",
    "The IMDb dataset we use contains 50.000 movie reviews, where only up to 30 reviews per movie are given.\n",
    "It includes a set of 25.000 highly polar movie reviews which are ideal to be used for training, as well as and 25.000 movie reviews to use for testing.  <br>\n",
    "Ratings on IMDB are given as star values (1,2,...,10), which are linearly mapped to 0 and 1. A  negative  review has a score lower than 4 out of 10, and a positive review has a score higher than 7 out of 10.\n",
    "\n",
    "\n",
    "For more information on the dataset, please refer to the following reference {% cite data %}:<br>\n",
    "http://ai.stanford.edu/~amaas/data/sentiment/"
   ]
  },
  {
   "cell_type": "markdown",
   "metadata": {},
   "source": [
    "## Data preparation and exploration "
   ]
  },
  {
   "cell_type": "code",
   "execution_count": 1,
   "metadata": {},
   "outputs": [],
   "source": [
    "%matplotlib inline\n",
    "\n",
    "import matplotlib.pyplot as plt\n",
    "import numpy as np\n",
    "import pandas as pd\n",
    "import spacy"
   ]
  },
  {
   "cell_type": "markdown",
   "metadata": {},
   "source": [
    "We will read the training data set containing 12500 negative and 12500 negative reviews and then transform everything into a pandas dataframe."
   ]
  },
  {
   "cell_type": "code",
   "execution_count": 2,
   "metadata": {},
   "outputs": [
    {
     "data": {
      "text/plain": [
       "(12500, 2)"
      ]
     },
     "execution_count": 2,
     "metadata": {},
     "output_type": "execute_result"
    }
   ],
   "source": [
    "import pandas as pd\n",
    "import glob\n",
    "\n",
    "path = r'/home/van/Desktop/git/DS_projects/Sentiment_Analysis-Movie_Reviews/train/neg' # file path\n",
    "all_files = glob.glob(path + \"/*.txt\")\n",
    "\n",
    "list_of_dfs = [pd.read_csv(filename,  sep = 'xxxxx',  engine='python', header=None, names=[\"review\", \"sentiment\"])  for filename in all_files]\n",
    "\n",
    "negative_df = pd.concat(list_of_dfs, ignore_index=True)\n",
    "negative_df['sentiment'] = 0\n",
    "\n",
    "negative_df.shape"
   ]
  },
  {
   "cell_type": "code",
   "execution_count": 3,
   "metadata": {},
   "outputs": [
    {
     "data": {
      "text/plain": [
       "(12500, 2)"
      ]
     },
     "execution_count": 3,
     "metadata": {},
     "output_type": "execute_result"
    }
   ],
   "source": [
    "path2 = r'/home/van/Desktop/git/DS_projects/Sentiment_Analysis-Movie_Reviews/train/pos' # file path\n",
    "all_files = glob.glob(path2 + \"/*.txt\")\n",
    "\n",
    "list_of_dfs2 = [pd.read_csv(filename,  sep = 'xxxxx',  engine='python', header=None, names=[\"review\", \"sentiment\"])  for filename in all_files]\n",
    "\n",
    "positive_df = pd.concat(list_of_dfs2, ignore_index=True)\n",
    "positive_df['sentiment'] = 1\n",
    "\n",
    "#positive_df.head()\n",
    "positive_df.shape"
   ]
  },
  {
   "cell_type": "code",
   "execution_count": 4,
   "metadata": {},
   "outputs": [
    {
     "name": "stdout",
     "output_type": "stream",
     "text": [
      "                                              review  sentiment\n",
      "0  do you still love woody allen's humor and sens...          1\n",
      "1  As it was already put, the best version ever o...          1\n",
      "2  Well here comes another,well,romantic comedy.....          1\n",
      "3  I have read the book and I must say that this ...          1\n",
      "4  Michael Stearns plays Mike, a sexually frustra...          1\n"
     ]
    },
    {
     "data": {
      "text/html": [
       "<div>\n",
       "<style scoped>\n",
       "    .dataframe tbody tr th:only-of-type {\n",
       "        vertical-align: middle;\n",
       "    }\n",
       "\n",
       "    .dataframe tbody tr th {\n",
       "        vertical-align: top;\n",
       "    }\n",
       "\n",
       "    .dataframe thead th {\n",
       "        text-align: right;\n",
       "    }\n",
       "</style>\n",
       "<table border=\"1\" class=\"dataframe\">\n",
       "  <thead>\n",
       "    <tr style=\"text-align: right;\">\n",
       "      <th></th>\n",
       "      <th>review</th>\n",
       "      <th>sentiment</th>\n",
       "    </tr>\n",
       "  </thead>\n",
       "  <tbody>\n",
       "    <tr>\n",
       "      <th>12495</th>\n",
       "      <td>Lets put it this way. I actually get this movi...</td>\n",
       "      <td>0</td>\n",
       "    </tr>\n",
       "    <tr>\n",
       "      <th>12496</th>\n",
       "      <td>This is the version that even the author hated...</td>\n",
       "      <td>0</td>\n",
       "    </tr>\n",
       "    <tr>\n",
       "      <th>12497</th>\n",
       "      <td>Roy Rogers and company try to bring \"Sintown\" ...</td>\n",
       "      <td>0</td>\n",
       "    </tr>\n",
       "    <tr>\n",
       "      <th>12498</th>\n",
       "      <td>I have to finish watching a movie once I start...</td>\n",
       "      <td>0</td>\n",
       "    </tr>\n",
       "    <tr>\n",
       "      <th>12499</th>\n",
       "      <td>This film has all the earmarks of too many coo...</td>\n",
       "      <td>0</td>\n",
       "    </tr>\n",
       "  </tbody>\n",
       "</table>\n",
       "</div>"
      ],
      "text/plain": [
       "                                                  review  sentiment\n",
       "12495  Lets put it this way. I actually get this movi...          0\n",
       "12496  This is the version that even the author hated...          0\n",
       "12497  Roy Rogers and company try to bring \"Sintown\" ...          0\n",
       "12498  I have to finish watching a movie once I start...          0\n",
       "12499  This film has all the earmarks of too many coo...          0"
      ]
     },
     "execution_count": 4,
     "metadata": {},
     "output_type": "execute_result"
    }
   ],
   "source": [
    "review_data = pd.concat([positive_df, negative_df], axis = 0)\n",
    "print(review_data.head())\n",
    "review_data.tail()"
   ]
  },
  {
   "cell_type": "code",
   "execution_count": 127,
   "metadata": {},
   "outputs": [
    {
     "data": {
      "text/plain": [
       "(25000, 2)"
      ]
     },
     "execution_count": 127,
     "metadata": {},
     "output_type": "execute_result"
    }
   ],
   "source": [
    "review_data.shape"
   ]
  },
  {
   "cell_type": "code",
   "execution_count": 128,
   "metadata": {},
   "outputs": [
    {
     "data": {
      "text/html": [
       "<div>\n",
       "<style scoped>\n",
       "    .dataframe tbody tr th:only-of-type {\n",
       "        vertical-align: middle;\n",
       "    }\n",
       "\n",
       "    .dataframe tbody tr th {\n",
       "        vertical-align: top;\n",
       "    }\n",
       "\n",
       "    .dataframe thead th {\n",
       "        text-align: right;\n",
       "    }\n",
       "</style>\n",
       "<table border=\"1\" class=\"dataframe\">\n",
       "  <thead>\n",
       "    <tr style=\"text-align: right;\">\n",
       "      <th></th>\n",
       "      <th>sentiment</th>\n",
       "    </tr>\n",
       "  </thead>\n",
       "  <tbody>\n",
       "    <tr>\n",
       "      <th>count</th>\n",
       "      <td>25000.00000</td>\n",
       "    </tr>\n",
       "    <tr>\n",
       "      <th>mean</th>\n",
       "      <td>0.50000</td>\n",
       "    </tr>\n",
       "    <tr>\n",
       "      <th>std</th>\n",
       "      <td>0.50001</td>\n",
       "    </tr>\n",
       "    <tr>\n",
       "      <th>min</th>\n",
       "      <td>0.00000</td>\n",
       "    </tr>\n",
       "    <tr>\n",
       "      <th>25%</th>\n",
       "      <td>0.00000</td>\n",
       "    </tr>\n",
       "    <tr>\n",
       "      <th>50%</th>\n",
       "      <td>0.50000</td>\n",
       "    </tr>\n",
       "    <tr>\n",
       "      <th>75%</th>\n",
       "      <td>1.00000</td>\n",
       "    </tr>\n",
       "    <tr>\n",
       "      <th>max</th>\n",
       "      <td>1.00000</td>\n",
       "    </tr>\n",
       "  </tbody>\n",
       "</table>\n",
       "</div>"
      ],
      "text/plain": [
       "         sentiment\n",
       "count  25000.00000\n",
       "mean       0.50000\n",
       "std        0.50001\n",
       "min        0.00000\n",
       "25%        0.00000\n",
       "50%        0.50000\n",
       "75%        1.00000\n",
       "max        1.00000"
      ]
     },
     "execution_count": 128,
     "metadata": {},
     "output_type": "execute_result"
    }
   ],
   "source": [
    "review_data.describe()"
   ]
  },
  {
   "cell_type": "markdown",
   "metadata": {},
   "source": [
    "## Methodology <a id= \"3\"></a>"
   ]
  },
  {
   "cell_type": "markdown",
   "metadata": {},
   "source": [
    "Our task is sentiment polarity classification for the reviews, a classifier should predict whether a given review is positive or negative. In order to do this, we will utilize word vectors. Word vectors typically improve the performance of machine learning models in comparison to methods such as bag of words encoding. <br>\n",
    "\n",
    "SpaCy, a free, open-source library for advanced Natural Language Processing (NLP) in Python, which provides embeddings learned from a model called Word2Vec. We will use the english language model \"en_core_web_lg\".<br>\n",
    "\n",
    "\n",
    "Word vectors are multi-dimensional representations of words that enable the determination of similarity. \n",
    "Two given words usually exhibit more intricate relationships than can be captured by a single number. \n",
    "For example, \"man\" may be regarded as similar to \"woman\" because both words describe human beings, but the two words are also often considered opposites. In order to capture the nuances necessary to distinguish \"man\" from \"woman\" in a quantitative way, a model needs to associate more than a single number to the words.\n",
    "In our case they have 300 entries which represent each word numerically so that the vector corresponds to its meaning and how that word is used. This means that words usually appearing in similar contexts, are described by similar vectors. Furthermore, relations between words can be examined with mathematical operations as for normal vectors. The underlying concept distinguishing \"man\" from \"woman\", might be equivalently given by various other word pairs, such as for instance \"king\" and \"queen\".\n",
    "Subtracting the vectors for \"man\" and \"woman\" returns another vector, now adding the vector for \"king\" will shift the result close to the vector for \"queen.\"<br>\n",
    "\n",
    "These properties are shown in the set of visualizations depicted below."
   ]
  },
  {
   "cell_type": "markdown",
   "metadata": {},
   "source": [
    "![title](vectors.png)\n",
    "\n",
    "https://nlp.stanford.edu/projects/glove/"
   ]
  },
  {
   "cell_type": "markdown",
   "metadata": {},
   "source": [
    "These vectors can be used as features for machine learning models. In order to classify the reviews, we will\n",
    "create one vector for each review. \n"
   ]
  },
  {
   "cell_type": "code",
   "execution_count": 5,
   "metadata": {},
   "outputs": [],
   "source": [
    "# Load the large model to get the vectors\n",
    "#!python -m spacy download en_core_web_lg\n",
    "nlp = spacy.load('en_core_web_lg')"
   ]
  },
  {
   "cell_type": "code",
   "execution_count": 8,
   "metadata": {},
   "outputs": [
    {
     "data": {
      "text/plain": [
       "(25000, 300)"
      ]
     },
     "execution_count": 8,
     "metadata": {},
     "output_type": "execute_result"
    }
   ],
   "source": [
    "#Let's take only the first 1000 rows to check how long it takes to transform the text in vecctors\n",
    "reviews = review_data\n",
    "#[:100]\n",
    "\n",
    "# We just want the vectors so we will turn off other models in the pipeline\n",
    "with nlp.disable_pipes():\n",
    "    vectors = np.array([nlp(txt.review).vector for idx, txt in reviews.iterrows()])\n",
    "    \n",
    "vectors.shape"
   ]
  },
  {
   "cell_type": "code",
   "execution_count": 9,
   "metadata": {},
   "outputs": [
    {
     "data": {
      "text/html": [
       "<div>\n",
       "<style scoped>\n",
       "    .dataframe tbody tr th:only-of-type {\n",
       "        vertical-align: middle;\n",
       "    }\n",
       "\n",
       "    .dataframe tbody tr th {\n",
       "        vertical-align: top;\n",
       "    }\n",
       "\n",
       "    .dataframe thead th {\n",
       "        text-align: right;\n",
       "    }\n",
       "</style>\n",
       "<table border=\"1\" class=\"dataframe\">\n",
       "  <thead>\n",
       "    <tr style=\"text-align: right;\">\n",
       "      <th></th>\n",
       "      <th>review</th>\n",
       "      <th>sentiment</th>\n",
       "    </tr>\n",
       "  </thead>\n",
       "  <tbody>\n",
       "    <tr>\n",
       "      <th>0</th>\n",
       "      <td>do you still love woody allen's humor and sens...</td>\n",
       "      <td>1</td>\n",
       "    </tr>\n",
       "    <tr>\n",
       "      <th>1</th>\n",
       "      <td>As it was already put, the best version ever o...</td>\n",
       "      <td>1</td>\n",
       "    </tr>\n",
       "    <tr>\n",
       "      <th>2</th>\n",
       "      <td>Well here comes another,well,romantic comedy.....</td>\n",
       "      <td>1</td>\n",
       "    </tr>\n",
       "    <tr>\n",
       "      <th>3</th>\n",
       "      <td>I have read the book and I must say that this ...</td>\n",
       "      <td>1</td>\n",
       "    </tr>\n",
       "    <tr>\n",
       "      <th>4</th>\n",
       "      <td>Michael Stearns plays Mike, a sexually frustra...</td>\n",
       "      <td>1</td>\n",
       "    </tr>\n",
       "  </tbody>\n",
       "</table>\n",
       "</div>"
      ],
      "text/plain": [
       "                                              review  sentiment\n",
       "0  do you still love woody allen's humor and sens...          1\n",
       "1  As it was already put, the best version ever o...          1\n",
       "2  Well here comes another,well,romantic comedy.....          1\n",
       "3  I have read the book and I must say that this ...          1\n",
       "4  Michael Stearns plays Mike, a sexually frustra...          1"
      ]
     },
     "execution_count": 9,
     "metadata": {},
     "output_type": "execute_result"
    }
   ],
   "source": [
    "reviews.head()"
   ]
  },
  {
   "cell_type": "markdown",
   "metadata": {},
   "source": [
    "## Analysis <a id= \"4\"></a>"
   ]
  },
  {
   "cell_type": "markdown",
   "metadata": {},
   "source": [
    "## Training the Models"
   ]
  },
  {
   "cell_type": "markdown",
   "metadata": {},
   "source": [
    "After calculating a baseline for our problem, we will use and compare 9 different models: Linear Support Vector Classifier (SVC),  K nearest neighbors (K-NN), Logistic Regression (LogReg), Gaussian Naive Bayes Classifier (naive Bayes), SGD Classifier (SGD), Random Tree, Random forest, a Voting Classifier and xgboost. \n"
   ]
  },
  {
   "cell_type": "code",
   "execution_count": 14,
   "metadata": {},
   "outputs": [
    {
     "name": "stdout",
     "output_type": "stream",
     "text": [
      "Model test accuracy: 49.400%\n"
     ]
    }
   ],
   "source": [
    "from sklearn.dummy import DummyClassifier\n",
    "\n",
    "dummy_clf = DummyClassifier(strategy=\"most_frequent\")\n",
    "dummy_clf.fit(X_train,y_train)\n",
    "print(f'Model test accuracy: {dummy_clf.score(X_test, y_test)*100:.3f}%')"
   ]
  },
  {
   "cell_type": "code",
   "execution_count": 15,
   "metadata": {},
   "outputs": [],
   "source": [
    "scores['Baseline Model'] = {\n",
    "        'Train': accuracy_score(y_train, dummy_clf.predict(X_train)),\n",
    "        'Test': accuracy_score(y_test, dummy_clf.predict(X_test)),\n",
    "    }"
   ]
  },
  {
   "cell_type": "code",
   "execution_count": 10,
   "metadata": {},
   "outputs": [],
   "source": [
    "from sklearn import metrics\n",
    "from sklearn.metrics import confusion_matrix, accuracy_score, classification_report"
   ]
  },
  {
   "cell_type": "code",
   "execution_count": 11,
   "metadata": {},
   "outputs": [
    {
     "name": "stdout",
     "output_type": "stream",
     "text": [
      "Model test accuracy: 86.560%\n"
     ]
    }
   ],
   "source": [
    "from sklearn.svm import LinearSVC\n",
    "from sklearn.model_selection import train_test_split\n",
    "\n",
    "X_train, X_test, y_train, y_test = train_test_split(vectors, reviews.sentiment, \n",
    "                                                    test_size=0.1, random_state=1)\n",
    "\n",
    "# Create the LinearSVC model\n",
    "SVC = LinearSVC(random_state=1, dual=False)\n",
    "# Fit the model\n",
    "SVC.fit(X_train, y_train)\n",
    "\n",
    "predSVM = SVC.predict(X_test)\n",
    "\n",
    "\n",
    "# Uncomment and run to see model accuracy\n",
    "print(f'Model test accuracy: {SVC.score(X_test, y_test)*100:.3f}%')"
   ]
  },
  {
   "cell_type": "code",
   "execution_count": 12,
   "metadata": {},
   "outputs": [],
   "source": [
    "scores = {\n",
    "    'LinearSVC': {\n",
    "        'Train': accuracy_score(y_train, SVC.predict(X_train)),\n",
    "        'Test': accuracy_score(y_test, SVC.predict(X_test)),\n",
    "    },\n",
    "}"
   ]
  },
  {
   "cell_type": "code",
   "execution_count": 19,
   "metadata": {},
   "outputs": [
    {
     "data": {
      "text/plain": [
       "{'LinearSVC': {'Train': 0.8625777777777778, 'Test': 0.8656},\n",
       " 'Baseline Model': {'Train': 0.5006666666666667, 'Test': 0.494},\n",
       " 'K-NN': {'Train': 0.8413777777777778, 'Test': 0.734}}"
      ]
     },
     "execution_count": 19,
     "metadata": {},
     "output_type": "execute_result"
    }
   ],
   "source": [
    "scores"
   ]
  },
  {
   "cell_type": "code",
   "execution_count": 17,
   "metadata": {},
   "outputs": [
    {
     "name": "stdout",
     "output_type": "stream",
     "text": [
      "Model test accuracy: 73.400%\n"
     ]
    }
   ],
   "source": [
    "from sklearn.neighbors import KNeighborsClassifier\n",
    "KNN = KNeighborsClassifier()\n",
    "#n_neighbors = 4\n",
    "KNN.fit(X_train,y_train)\n",
    "print(f'Model test accuracy: {KNN.score(X_test, y_test)*100:.3f}%')"
   ]
  },
  {
   "cell_type": "code",
   "execution_count": 18,
   "metadata": {},
   "outputs": [],
   "source": [
    "scores['K-NN'] = {\n",
    "        'Train': accuracy_score(y_train, KNN.predict(X_train)),\n",
    "        'Test': accuracy_score(y_test, KNN.predict(X_test)),\n",
    "    }"
   ]
  },
  {
   "cell_type": "code",
   "execution_count": 20,
   "metadata": {},
   "outputs": [
    {
     "name": "stdout",
     "output_type": "stream",
     "text": [
      "Model test accuracy: 85.600%\n"
     ]
    }
   ],
   "source": [
    "from sklearn.linear_model import LogisticRegression\n",
    "\n",
    "#‘newton-cg’, ‘lbfgs’, ‘liblinear’, ‘sag’, ‘saga’\n",
    "#LogReg = LogisticRegression(C=0.01, solver='liblinear')\n",
    "LogReg =LogisticRegression(penalty='l2',max_iter=500,C=1,random_state=1)\n",
    "LogReg.fit(X_train,y_train)\n",
    "print(f'Model test accuracy: {LogReg.score(X_test, y_test)*100:.3f}%')"
   ]
  },
  {
   "cell_type": "code",
   "execution_count": 21,
   "metadata": {},
   "outputs": [],
   "source": [
    "scores['Log-Reg'] = {\n",
    "        'Train': accuracy_score(y_train, LogReg.predict(X_train)),\n",
    "        'Test': accuracy_score(y_test, LogReg.predict(X_test)),\n",
    "    }"
   ]
  },
  {
   "cell_type": "code",
   "execution_count": 23,
   "metadata": {},
   "outputs": [
    {
     "name": "stdout",
     "output_type": "stream",
     "text": [
      "Model test accuracy: 72.040%\n"
     ]
    }
   ],
   "source": [
    "from sklearn.naive_bayes import GaussianNB\n",
    "#from sklearn.naive_bayes import MultinomialNB\n",
    "\n",
    "naive = GaussianNB()\n",
    "#MultinomialNB()\n",
    "naive.fit(X_train,y_train)\n",
    "print(f'Model test accuracy: {naive.score(X_test, y_test)*100:.3f}%')"
   ]
  },
  {
   "cell_type": "code",
   "execution_count": 24,
   "metadata": {},
   "outputs": [],
   "source": [
    "scores['Naive Bayes'] = {\n",
    "        'Train': accuracy_score(y_train, naive.predict(X_train)),\n",
    "        'Test': accuracy_score(y_test, naive.predict(X_test)),\n",
    "    }"
   ]
  },
  {
   "cell_type": "code",
   "execution_count": 25,
   "metadata": {},
   "outputs": [
    {
     "name": "stdout",
     "output_type": "stream",
     "text": [
      "Model test accuracy: 85.560%\n"
     ]
    }
   ],
   "source": [
    "from sklearn.linear_model import SGDClassifier\n",
    "\n",
    "SGD=SGDClassifier(loss='hinge',max_iter=500,random_state=1)\n",
    "SGD.fit(X_train,y_train)\n",
    "print(f'Model test accuracy: {SGD.score(X_test, y_test)*100:.3f}%')"
   ]
  },
  {
   "cell_type": "code",
   "execution_count": 26,
   "metadata": {},
   "outputs": [],
   "source": [
    "scores['SGD'] = {\n",
    "        'Train': accuracy_score(y_train, SGD.predict(X_train)),\n",
    "        'Test': accuracy_score(y_test, SGD.predict(X_test)),\n",
    "    }"
   ]
  },
  {
   "cell_type": "code",
   "execution_count": 27,
   "metadata": {},
   "outputs": [
    {
     "name": "stdout",
     "output_type": "stream",
     "text": [
      "Model test accuracy: 79.280%\n"
     ]
    }
   ],
   "source": [
    "from sklearn.ensemble import RandomForestClassifier\n",
    "\n",
    "rf_clf = RandomForestClassifier(random_state=3, n_estimators=100)\n",
    "rf_clf.fit(X_train, y_train)\n",
    "#evaluate(rf_clf, X_train, X_test, y_train, y_test)\n",
    "print(f'Model test accuracy: {rf_clf.score(X_test, y_test)*100:.3f}%')"
   ]
  },
  {
   "cell_type": "code",
   "execution_count": 28,
   "metadata": {},
   "outputs": [],
   "source": [
    "scores['Random Forest'] = {\n",
    "        'Train': accuracy_score(y_train, rf_clf.predict(X_train)),\n",
    "        'Test': accuracy_score(y_test, rf_clf.predict(X_test)),\n",
    "    }"
   ]
  },
  {
   "cell_type": "code",
   "execution_count": 29,
   "metadata": {},
   "outputs": [
    {
     "name": "stdout",
     "output_type": "stream",
     "text": [
      "Model test accuracy: 69.040%\n"
     ]
    }
   ],
   "source": [
    "from sklearn.tree import DecisionTreeClassifier\n",
    "\n",
    "Tree = DecisionTreeClassifier(criterion=\"entropy\")\n",
    "#, max_depth = 15\n",
    "Tree.fit(X_train,y_train)\n",
    "print(f'Model test accuracy: {Tree.score(X_test, y_test)*100:.3f}%')"
   ]
  },
  {
   "cell_type": "code",
   "execution_count": 30,
   "metadata": {},
   "outputs": [],
   "source": [
    "scores['Decision Tree'] = {\n",
    "        'Train': accuracy_score(y_train, Tree.predict(X_train)),\n",
    "        'Test': accuracy_score(y_test, Tree.predict(X_test)),\n",
    "    }"
   ]
  },
  {
   "cell_type": "code",
   "execution_count": 34,
   "metadata": {},
   "outputs": [
    {
     "data": {
      "text/plain": [
       "VotingClassifier(estimators=[('K-NN', KNeighborsClassifier()),\n",
       "                             ('Logistic',\n",
       "                              LogisticRegression(C=1, max_iter=500,\n",
       "                                                 random_state=1)),\n",
       "                             ('SGD',\n",
       "                              SGDClassifier(max_iter=500, random_state=1)),\n",
       "                             ('Random Forrest',\n",
       "                              RandomForestClassifier(random_state=3)),\n",
       "                             ('Tree',\n",
       "                              DecisionTreeClassifier(criterion='entropy')),\n",
       "                             ('SVC', LinearSVC(dual=False, random_state=1))])"
      ]
     },
     "execution_count": 34,
     "metadata": {},
     "output_type": "execute_result"
    }
   ],
   "source": [
    "from sklearn.ensemble import VotingClassifier\n",
    "\n",
    "\n",
    "estimators = []\n",
    "estimators.append(('K-NN', KNN))\n",
    "estimators.append(('Logistic', LogReg))\n",
    "estimators.append(('SGD', SGD))\n",
    "estimators.append(('Random Forrest', rf_clf))\n",
    "estimators.append(('Tree', Tree))\n",
    "estimators.append(('SVC', SVC))\n",
    "\n",
    "voting = VotingClassifier(estimators=estimators)\n",
    "voting.fit(X_train, y_train)"
   ]
  },
  {
   "cell_type": "code",
   "execution_count": 35,
   "metadata": {},
   "outputs": [],
   "source": [
    "scores['Voting'] = {\n",
    "        'Train': accuracy_score(y_train, voting.predict(X_train)),\n",
    "        'Test': accuracy_score(y_test, voting.predict(X_test)),\n",
    "    }"
   ]
  },
  {
   "cell_type": "code",
   "execution_count": 36,
   "metadata": {},
   "outputs": [],
   "source": [
    "#!pip install intel-openmp"
   ]
  },
  {
   "cell_type": "code",
   "execution_count": 37,
   "metadata": {},
   "outputs": [],
   "source": [
    "#!pip install xgboost"
   ]
  },
  {
   "cell_type": "code",
   "execution_count": 39,
   "metadata": {},
   "outputs": [
    {
     "name": "stderr",
     "output_type": "stream",
     "text": [
      "/home/van/.local/lib/python3.6/site-packages/xgboost/sklearn.py:892: UserWarning: The use of label encoder in XGBClassifier is deprecated and will be removed in a future release. To remove this warning, do the following: 1) Pass option use_label_encoder=False when constructing XGBClassifier object; and 2) Encode your labels (y) as integers starting with 0, i.e. 0, 1, 2, ..., [num_class - 1].\n",
      "  warnings.warn(label_encoder_deprecation_msg, UserWarning)\n"
     ]
    },
    {
     "name": "stdout",
     "output_type": "stream",
     "text": [
      "[23:52:13] WARNING: ../src/learner.cc:1061: Starting in XGBoost 1.3.0, the default evaluation metric used with the objective 'binary:logistic' was changed from 'error' to 'logloss'. Explicitly set eval_metric if you'd like to restore the old behavior.\n",
      "Model test accuracy: 83.560%\n"
     ]
    }
   ],
   "source": [
    "from xgboost import XGBClassifier\n",
    "\n",
    "xgboost_model = XGBClassifier()\n",
    "\n",
    "xgboost_model.fit(X_train, y_train)\n",
    "\n",
    "print(f'Model test accuracy: {xgboost_model.score(X_test, y_test)*100:.3f}%')"
   ]
  },
  {
   "cell_type": "code",
   "execution_count": 40,
   "metadata": {},
   "outputs": [],
   "source": [
    "scores['xgboost'] = {\n",
    "        'Train': accuracy_score(y_train, xgboost_model.predict(X_train)),\n",
    "        'Test': accuracy_score(y_test, xgboost_model.predict(X_test)),\n",
    "    }"
   ]
  },
  {
   "cell_type": "markdown",
   "metadata": {},
   "source": [
    "## Results and Discussion <a id= \"5\"></a>"
   ]
  },
  {
   "cell_type": "code",
   "execution_count": 41,
   "metadata": {},
   "outputs": [],
   "source": [
    "scores_df = pd.DataFrame(scores)\n",
    "\n",
    "#scores_df.plot(kind='barh', figsize=(15, 8))"
   ]
  },
  {
   "cell_type": "code",
   "execution_count": 43,
   "metadata": {},
   "outputs": [
    {
     "data": {
      "image/png": "[encoded data removed]",
      "text/plain": [
       "<Figure size 1440x576 with 1 Axes>"
      ]
     },
     "metadata": {
      "needs_background": "light"
     },
     "output_type": "display_data"
    }
   ],
   "source": [
    "#,color=['#5cb85c','#5bc0de','#d9534f']\n",
    "\n",
    "ax=scores_df.plot(kind='bar', figsize=(20, 8), width=0.8,fontsize=14) \n",
    "plt.legend(fontsize=14,loc=\"lower left\")\n",
    "plt.title(\"Accuracy of the Models\",fontsize=16)\n",
    "ax.spines['right'].set_visible(False)\n",
    "ax.spines['top'].set_visible(False)\n",
    "ax.spines['left'].set_visible(False)\n",
    "y_axis = ax.axes.get_yaxis()\n",
    "y_axis.set_visible(False)\n",
    "for p in ax.patches:\n",
    "    ax.annotate(np.round(p.get_height(),decimals=2),\n",
    "                                (p.get_x()+p.get_width()/2., p.get_height()),\n",
    "                                ha='center',va='center',xytext=(0, 10),textcoords='offset points',fontsize=14) \n",
    "plt.show()"
   ]
  },
  {
   "cell_type": "code",
   "execution_count": null,
   "metadata": {},
   "outputs": [],
   "source": []
  },
  {
   "cell_type": "code",
   "execution_count": null,
   "metadata": {},
   "outputs": [],
   "source": []
  },
  {
   "cell_type": "markdown",
   "metadata": {},
   "source": [
    "## Conclusion <a id= \"6\"></a>"
   ]
  },
  {
   "cell_type": "code",
   "execution_count": null,
   "metadata": {},
   "outputs": [],
   "source": []
  },
  {
   "cell_type": "markdown",
   "metadata": {},
   "source": [
    "## Authors:\n",
    "### Daniel Molnar & Vanessa Koch"
   ]
  },
  {
   "cell_type": "markdown",
   "metadata": {},
   "source": [
    "## References <a id= \"7\"></a>"
   ]
  },
  {
   "cell_type": "code",
   "execution_count": null,
   "metadata": {},
   "outputs": [],
   "source": []
  }
 ],
 "metadata": {
  "kernelspec": {
   "display_name": "Python 3",
   "language": "python",
   "name": "python3"
  },
  "language_info": {
   "codemirror_mode": {
    "name": "ipython",
    "version": 3
   },
   "file_extension": ".py",
   "mimetype": "text/x-python",
   "name": "python",
   "nbconvert_exporter": "python",
   "pygments_lexer": "ipython3",
   "version": "3.6.9"
  }
 },
 "nbformat": 4,
 "nbformat_minor": 4
}
